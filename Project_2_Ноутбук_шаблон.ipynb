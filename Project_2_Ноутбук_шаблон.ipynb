{
  "cells": [
    {
      "cell_type": "markdown",
      "id": "42289889-bd57-434e-9637-d3e354756316",
      "metadata": {
        "id": "42289889-bd57-434e-9637-d3e354756316"
      },
      "source": [
        "<center> <img src = https://raw.githubusercontent.com/AndreyRysistov/DatasetsForPandas/main/hh%20label.jpg alt=\"drawing\" style=\"width:400px;\">"
      ]
    },
    {
      "cell_type": "markdown",
      "id": "829cb75b-f14e-4ba8-9195-7ba929a7d656",
      "metadata": {
        "id": "829cb75b-f14e-4ba8-9195-7ba929a7d656",
        "tags": []
      },
      "source": [
        "# <center> Проект: Анализ вакансий из HeadHunter\n",
        "   "
      ]
    },
    {
      "cell_type": "code",
      "execution_count": 414,
      "id": "dccfde33-2452-43fb-a8a5-5c6ebc02a71d",
      "metadata": {
        "id": "dccfde33-2452-43fb-a8a5-5c6ebc02a71d"
      },
      "outputs": [],
      "source": [
        "import pandas as pd\n",
        "import psycopg2\n",
        "import requests\n",
        "from bs4 import BeautifulSoup"
      ]
    },
    {
      "cell_type": "code",
      "execution_count": 415,
      "id": "oVKH4ehvf8Ay",
      "metadata": {
        "id": "oVKH4ehvf8Ay"
      },
      "outputs": [],
      "source": [
        "# вставьте сюда параметры подключения из юнита 1. Работа с базой данных из Python\n",
        "DBNAME = 'DBNAME'\n",
        "USER = 'USER'\n",
        "PASSWORD = 'PASSWORD'\n",
        "HOST = 'HOST'\n",
        "PORT = PORT"
      ]
    },
    {
      "cell_type": "markdown",
      "id": "92cdabed",
      "metadata": {},
      "source": [
        "Список используемых таблиц:\n",
        "VACANCIES               данные по вакансиям\n",
        "AREAS                   код города и его название\n",
        "EMPLOYERS               список работодателей\n",
        "INDUSTRIES              сферы деятельности работодателей\n",
        "EMPLOYERS_INDUSTRIES    связи между работодателями и сферами их деятельности"
      ]
    },
    {
      "cell_type": "code",
      "execution_count": 416,
      "id": "G4X_q8KBf7SF",
      "metadata": {
        "id": "G4X_q8KBf7SF"
      },
      "outputs": [],
      "source": [
        "connection = psycopg2.connect(\n",
        "    dbname=DBNAME,\n",
        "    user=USER,\n",
        "    host=HOST,\n",
        "    password=PASSWORD,\n",
        "    port=PORT\n",
        ")"
      ]
    },
    {
      "cell_type": "markdown",
      "id": "0dc6476b-7a00-44f1-ac93-6e3baed33a29",
      "metadata": {
        "id": "0dc6476b-7a00-44f1-ac93-6e3baed33a29"
      },
      "source": [
        "# Юнит 3. Предварительный анализ данных"
      ]
    },
    {
      "cell_type": "markdown",
      "id": "889782b6-8d1c-410e-8920-e57f27917c64",
      "metadata": {
        "id": "889782b6-8d1c-410e-8920-e57f27917c64"
      },
      "source": [
        "1. Напишите запрос, который посчитает количество вакансий в нашей базе (вакансии находятся в таблице vacancies). "
      ]
    },
    {
      "cell_type": "code",
      "execution_count": 417,
      "id": "bc39e68e-ed02-4ee2-9235-7258a2f867a8",
      "metadata": {
        "id": "bc39e68e-ed02-4ee2-9235-7258a2f867a8"
      },
      "outputs": [],
      "source": [
        "# текст запроса\n",
        "query_3_1 = f'''\n",
        "                SELECT \n",
        "                    COUNT(*)\n",
        "                FROM VACANCIES\n",
        "'''"
      ]
    },
    {
      "cell_type": "code",
      "execution_count": 418,
      "id": "7mAwtsk4hEHY",
      "metadata": {
        "id": "7mAwtsk4hEHY"
      },
      "outputs": [
        {
          "name": "stdout",
          "output_type": "stream",
          "text": [
            "Сколько вакансий есть в базе? Ответ: 49197\n"
          ]
        }
      ],
      "source": [
        "# результат запроса\n",
        "answer = pd.read_sql_query(query_3_1, connection)\n",
        "answer = answer['count'][0]\n",
        "print(f'Сколько вакансий есть в базе? Ответ: {answer}')"
      ]
    },
    {
      "cell_type": "markdown",
      "id": "b583485d-1f9e-494e-ada4-80ffff7c53d6",
      "metadata": {
        "id": "b583485d-1f9e-494e-ada4-80ffff7c53d6"
      },
      "source": [
        "2. Напишите запрос, который посчитает количество работодателей (таблица employers). "
      ]
    },
    {
      "cell_type": "code",
      "execution_count": 419,
      "id": "5408c52c-3407-4a63-b25b-1aafa2322d28",
      "metadata": {
        "id": "5408c52c-3407-4a63-b25b-1aafa2322d28"
      },
      "outputs": [],
      "source": [
        "# текст запроса\n",
        "query_3_2 = f'''\n",
        "                SELECT \n",
        "                    COUNT(*)\n",
        "                FROM EMPLOYERS\n",
        "'''"
      ]
    },
    {
      "cell_type": "code",
      "execution_count": 420,
      "id": "jVL4eshKhdqc",
      "metadata": {
        "id": "jVL4eshKhdqc"
      },
      "outputs": [
        {
          "name": "stdout",
          "output_type": "stream",
          "text": [
            "Сколько работодателей? Ответ: 23501\n"
          ]
        },
      ],
      "source": [
        "# результат запроса\n",
        "answer = pd.read_sql_query(query_3_2, connection)\n",
        "answer = answer['count'][0]\n",
        "print(f'Сколько работодателей? Ответ: {answer}')"
      ]
    },
    {
      "cell_type": "markdown",
      "id": "a2bfff1f-c975-4bf6-84be-2185d79dcb76",
      "metadata": {
        "id": "a2bfff1f-c975-4bf6-84be-2185d79dcb76"
      },
      "source": [
        "3. Посчитате с помощью запроса количество регионов (таблица areas)."
      ]
    },
    {
      "cell_type": "code",
      "execution_count": 421,
      "id": "1m8QJwBYhey6",
      "metadata": {
        "id": "1m8QJwBYhey6"
      },
      "outputs": [],
      "source": [
        "# текст запроса\n",
        "query_3_3 = f'''\n",
        "                SELECT \n",
        "                    COUNT(*)\n",
        "                FROM AREAS\n",
        "'''"
      ]
    },
    {
      "cell_type": "code",
      "execution_count": 422,
      "id": "EZsn9tlfhe7f",
      "metadata": {
        "id": "EZsn9tlfhe7f"
      },
      "outputs": [
        {
          "name": "stdout",
          "output_type": "stream",
          "text": [
            "Сколько регионов? Ответ: 1362\n"
          ]
        },
      ],
      "source": [
        "# результат запроса\n",
        "answer = pd.read_sql_query(query_3_3, connection)\n",
        "answer = answer['count'][0]\n",
        "print(f'Сколько регионов? Ответ: {answer}')"
      ]
    },
    {
      "cell_type": "markdown",
      "id": "41bb59f3-53cc-4a67-a5bc-bedf573955e4",
      "metadata": {
        "id": "41bb59f3-53cc-4a67-a5bc-bedf573955e4"
      },
      "source": [
        "4. Посчитате с помощью запроса количество сфер деятельности в базе (таблица industries)."
      ]
    },
    {
      "cell_type": "code",
      "execution_count": 423,
      "id": "d286cf4c-707b-4cd2-9190-7ab3587d04a1",
      "metadata": {
        "id": "d286cf4c-707b-4cd2-9190-7ab3587d04a1"
      },
      "outputs": [],
      "source": [
        "# текст запроса\n",
        "query_3_4 = f'''\n",
        "                SELECT \n",
        "                    COUNT(*)\n",
        "                FROM INDUSTRIES\n",
        "'''"
      ]
    },
    {
      "cell_type": "code",
      "execution_count": 424,
      "id": "JYAaoZ4qhfzW",
      "metadata": {
        "id": "JYAaoZ4qhfzW"
      },
      "outputs": [
        {
          "name": "stdout",
          "output_type": "stream",
          "text": [
            "Сколько сфер деятельности? Ответ: 294\n"
          ]
        },
      ],
      "source": [
        "# результат запроса\n",
        "answer = pd.read_sql_query(query_3_4, connection)\n",
        "answer = answer['count'][0]\n",
        "print(f'Сколько сфер деятельности? Ответ: {answer}')"
      ]
    },
    {
      "cell_type": "markdown",
      "id": "9a8a2181-6914-448b-85f1-38f5f18b8a93",
      "metadata": {
        "id": "9a8a2181-6914-448b-85f1-38f5f18b8a93"
      },
      "source": [
        "***"
      ]
    },
    {
      "cell_type": "markdown",
      "id": "be4e9bd3-a4db-4a20-82fb-6b02fc2957e0",
      "metadata": {
        "id": "be4e9bd3-a4db-4a20-82fb-6b02fc2957e0"
      },
      "source": [
        "# Выводы по предварительному анализу данных\n",
        "Анализируя таблицы на количество строк напрашиваются несколько выводов:\n",
        "* Среднее распределение вакансий по работодателям примерно равняется 2.\n",
        "* Таблица регионов - скорее является списком городов, при этом их количество превышает количенство городов России, либо в списке присутствуют города других стран, либо различное написание одного и тогоже(неточность в данных).\n",
        "На HH.ru присутствуют вакансии России, Белоруссии, Казахстана.\n",
        "* Среднее распределение вакансий по сферам деятельности примерно равняется 167."
      ]
    },
    {
      "cell_type": "markdown",
      "id": "8d62a9f3-f64e-4fe7-bdac-c4dffa16155e",
      "metadata": {
        "id": "8d62a9f3-f64e-4fe7-bdac-c4dffa16155e"
      },
      "source": [
        "# Юнит 4. Детальный анализ вакансий"
      ]
    },
    {
      "cell_type": "markdown",
      "id": "93053d3d-b284-481a-9cf7-012d7014c0e0",
      "metadata": {
        "id": "93053d3d-b284-481a-9cf7-012d7014c0e0"
      },
      "source": [
        "1. Напишите запрос, который позволит узнать, сколько (cnt) вакансий в каждом регионе (area).\n",
        "Отсортируйте по количеству вакансий в порядке убывания."
      ]
    },
    {
      "cell_type": "code",
      "execution_count": 425,
      "id": "3f069da6-fdc9-4ae7-b514-fafe2675efd3",
      "metadata": {
        "id": "3f069da6-fdc9-4ae7-b514-fafe2675efd3"
      },
      "outputs": [],
      "source": [
        "# текст запроса\n",
        "query_4_1 = f'''\n",
        "                SELECT\n",
        "                    COUNT(VACANCIES.name) AS cnt, \n",
        "                    AREAS.name AS area\n",
        "                FROM VACANCIES\n",
        "                LEFT JOIN AREAS ON AREAS.id = VACANCIES.area_id\n",
        "                GROUP BY AREAS.id\n",
        "                ORDER BY 1 DESC\n",
        "                LIMIT 5\n",
        "'''"
      ]
    },
    {
      "cell_type": "code",
      "execution_count": 426,
      "id": "P7QL86hrjhRJ",
      "metadata": {
        "id": "P7QL86hrjhRJ"
      },
      "outputs": [
        {
          "name": "stdout",
          "output_type": "stream",
          "text": [
            "Пятерка регионов-лидеров по количеству вакансий? Ответ: ['Москва', 'Санкт-Петербург', 'Минск', 'Новосибирск', 'Алматы']\n"
          ]
        },
      ],
      "source": [
        "# результат запроса\n",
        "answer = pd.read_sql_query(query_4_1, connection)\n",
        "answer = answer['area'].to_list()\n",
        "print(f'Пятерка регионов-лидеров по количеству вакансий? Ответ: {answer}')"
      ]
    },
    {
      "cell_type": "markdown",
      "id": "4266f0b6-1646-492a-88b4-2f6a46502135",
      "metadata": {
        "id": "4266f0b6-1646-492a-88b4-2f6a46502135"
      },
      "source": [
        "2. Напишите запрос, чтобы определить у какого количества вакансий заполнено хотя бы одно из двух полей с зарплатой."
      ]
    },
    {
      "cell_type": "code",
      "execution_count": 427,
      "id": "0c44b350-72eb-4d65-8b54-a1fc449ba9fd",
      "metadata": {
        "id": "0c44b350-72eb-4d65-8b54-a1fc449ba9fd"
      },
      "outputs": [],
      "source": [
        "# текст запроса\n",
        "query_4_2 = f'''\n",
        "                SELECT \n",
        "                    COUNT(*)\n",
        "                FROM VACANCIES\n",
        "                WHERE salary_from > 0 OR salary_to > 0\n",
        "'''"
      ]
    },
    {
      "cell_type": "code",
      "execution_count": 428,
      "id": "rhvwaMDkoWTi",
      "metadata": {
        "id": "rhvwaMDkoWTi"
      },
      "outputs": [
        {
          "name": "stdout",
          "output_type": "stream",
          "text": [
            "У какого количества вакансий заполнено хотя бы одно из двух полей с зарплатой? Ответ: 24073\n"
          ]
        },
      ],
      "source": [
        "# результат запроса\n",
        "answer = pd.read_sql_query(query_4_2, connection)\n",
        "answer = answer['count'][0]\n",
        "print(f'У какого количества вакансий заполнено хотя бы одно из двух полей с зарплатой? Ответ: {answer}')"
      ]
    },
    {
      "cell_type": "markdown",
      "id": "635c4d5d-f323-4c66-b428-50a088120aa0",
      "metadata": {
        "id": "635c4d5d-f323-4c66-b428-50a088120aa0"
      },
      "source": [
        "3. Найдите средние значения для нижней и верхней границы зарплатной вилки. Округлите значения до целого."
      ]
    },
    {
      "cell_type": "code",
      "execution_count": 429,
      "id": "603cdbe4-0ec3-4106-8eaf-c73fcdd29165",
      "metadata": {
        "id": "603cdbe4-0ec3-4106-8eaf-c73fcdd29165"
      },
      "outputs": [],
      "source": [
        "# текст запроса\n",
        "query_4_3 = f'''\n",
        "                SELECT \n",
        "                    ROUND(AVG(salary_from), 0) AS \"Lower salary\",\n",
        "                    ROUND(AVG(salary_to), 0) AS \"Upper salary\" \n",
        "                FROM VACANCIES\n",
        "'''"
      ]
    },
    {
      "cell_type": "code",
      "execution_count": 430,
      "id": "pswpAb66ovZZ",
      "metadata": {
        "id": "pswpAb66ovZZ"
      },
      "outputs": [
        {
          "name": "stdout",
          "output_type": "stream",
          "text": [
            "Найдите средние значения для нижней и верхней границы зарплатной вилки? Ответ: Нижняя граница: 71065.0 Верхняя граница: 110537.0\n"
          ]
        },
      ],
      "source": [
        "# результат запроса\n",
        "answer = pd.read_sql_query(query_4_3, connection)\n",
        "answer_low = answer['Lower salary'][0]\n",
        "answer_upp = answer['Upper salary'][0]\n",
        "print(f'Найдите средние значения для нижней и верхней границы зарплатной вилки? Ответ: Нижняя граница: {answer_low} Верхняя граница: {answer_upp}')"
      ]
    },
    {
      "cell_type": "markdown",
      "id": "f3fdaec9-5fd3-4260-9cf5-1d7406b628a5",
      "metadata": {
        "id": "f3fdaec9-5fd3-4260-9cf5-1d7406b628a5"
      },
      "source": [
        "4. Напишите запрос, который выведет количество вакансий для каждого сочетания типа рабочего графика (schedule) и типа трудоустройства (employment), используемого в вакансиях. Результат отсортируйте по убыванию количества.\n"
      ]
    },
    {
      "cell_type": "code",
      "execution_count": 431,
      "id": "1ea710ec-871b-431e-9462-c7d0fd87011b",
      "metadata": {
        "id": "1ea710ec-871b-431e-9462-c7d0fd87011b"
      },
      "outputs": [],
      "source": [
        "# текст запроса\n",
        "query_4_4 = f'''\n",
        "                SELECT\n",
        "                    COUNT(VACANCIES.name) AS cnt, \n",
        "                    schedule,\n",
        "                    employment\n",
        "                FROM VACANCIES\n",
        "                GROUP BY schedule, employment\n",
        "                ORDER BY 1 DESC\n",
        "                OFFSET 1 ROWS\n",
        "                LIMIT 1\n",
        "'''"
      ]
    },
    {
      "cell_type": "code",
      "execution_count": 432,
      "id": "lGUVqavdo4JQ",
      "metadata": {
        "id": "lGUVqavdo4JQ"
      },
      "outputs": [
        {
          "name": "stdout",
          "output_type": "stream",
          "text": [
            "Какая пара находится на втором месте по количествe вакансий для каждого сочетания типа рабочего графика и типа трудоустройства, используемого в вакансиях? Ответ: Удаленная работа - Полная занятость\n"
          ]
        },
      ],
      "source": [
        "# результат запроса\n",
        "answer = pd.read_sql_query(query_4_4, connection)\n",
        "answer = answer['schedule'][0] + \" - \" + answer['employment'][0]\n",
        "print(f'Какая пара находится на втором месте по количествe вакансий для каждого сочетания типа рабочего графика и типа трудоустройства, используемого в вакансиях? Ответ: {answer}')\n"
      ]
    },
    {
      "cell_type": "markdown",
      "id": "0136ffee-0ead-4a6b-b608-61d1c753a438",
      "metadata": {
        "id": "0136ffee-0ead-4a6b-b608-61d1c753a438"
      },
      "source": [
        "5. Напишите запрос, выводящий значения поля Требуемый опыт работы (experience) в порядке возрастания количества вакансий, в которых указан данный вариант опыта. "
      ]
    },
    {
      "cell_type": "code",
      "execution_count": 433,
      "id": "5b3a8e79-f7ab-4008-b767-12aea3a205ea",
      "metadata": {
        "id": "5b3a8e79-f7ab-4008-b767-12aea3a205ea"
      },
      "outputs": [],
      "source": [
        "# текст запроса\n",
        "query_4_5 = f'''\n",
        "                SELECT\n",
        "                    COUNT(VACANCIES.name) AS cnt, \n",
        "                    experience\n",
        "                FROM VACANCIES\n",
        "                GROUP BY experience\n",
        "                ORDER BY 1\n",
        "'''"
      ]
    },
    {
      "cell_type": "code",
      "execution_count": 434,
      "id": "3Is64Y-hpDpq",
      "metadata": {
        "id": "3Is64Y-hpDpq"
      },
      "outputs": [
        {
          "name": "stdout",
          "output_type": "stream",
          "text": [
            "Список Требуемого опыта по количеству вакансий в порядке возрастания? Ответ: ['Более 6 лет', 'Нет опыта', 'От 3 до 6 лет', 'От 1 года до 3 лет']\n"
          ]
        },
      ],
      "source": [
        "# результат запроса\n",
        "answer = pd.read_sql_query(query_4_5, connection)\n",
        "answer = answer['experience'].to_list()\n",
        "print(f'Список Требуемого опыта по количеству вакансий в порядке возрастания? Ответ: {answer}')"
      ]
    },
    {
      "cell_type": "markdown",
      "id": "oq2b7n1QpIka",
      "metadata": {
        "id": "oq2b7n1QpIka"
      },
      "source": [
        "***"
      ]
    },
    {
      "cell_type": "markdown",
      "id": "e91f87ed-e25c-4f96-9f92-b642e8c0b4fa",
      "metadata": {
        "id": "e91f87ed-e25c-4f96-9f92-b642e8c0b4fa"
      },
      "source": [
        "# Выводы по детальному анализу вакансий:\n",
        "* Прослеживается зависимость количества вакансий в регионах от количества жителей. Примечательно что количество жителей \"Алматы\" выше жителей Новосибирска, но по количеству вакансий \"Алматы\" уступает Новосибирску.\n",
        "Вероятно, сайт менее востребован в Казахстане, либо в \"Алматы\" есть проблемы с трудоустройством.\n",
        "* Половина представленных вакансий без указания заработной платы.\n",
        "* Большая часть вакансий для полного рабочего дня и полной занятости\n",
        "* Две наиболее востребованные категории опыта работы говорят о востребованности студентов без опыта и профессионалов своего дела с наивысшим опытом."
      ]
    },
    {
      "cell_type": "markdown",
      "id": "7ea20ab6-04a7-40a0-adec-443a0e5a42c3",
      "metadata": {
        "id": "7ea20ab6-04a7-40a0-adec-443a0e5a42c3"
      },
      "source": [
        "# Юнит 5. Анализ работодателей"
      ]
    },
    {
      "cell_type": "markdown",
      "id": "968aed80-74ef-4ffb-b5bf-c65b84e9caea",
      "metadata": {
        "id": "968aed80-74ef-4ffb-b5bf-c65b84e9caea"
      },
      "source": [
        "1. Напишите запрос, который позволит узнать, какие работодатели находятся на первом и пятом месте по количеству вакансий."
      ]
    },
    {
      "cell_type": "code",
      "execution_count": 435,
      "id": "f2d62796-d400-4ec1-a675-88112739a50e",
      "metadata": {
        "id": "f2d62796-d400-4ec1-a675-88112739a50e"
      },
      "outputs": [],
      "source": [
        "# текст запроса\n",
        "query_5_1 = f'''(\n",
        "                    SELECT\n",
        "                        COUNT(VACANCIES.name), \n",
        "                        EMPLOYERS.name\n",
        "                    FROM VACANCIES\n",
        "                    LEFT JOIN EMPLOYERS ON EMPLOYERS.id = VACANCIES.employer_id\n",
        "                    GROUP BY EMPLOYERS.id\n",
        "                    ORDER BY 1 DESC\n",
        "                    OFFSET 4 ROWS\n",
        "                    LIMIT 1\n",
        "                )\n",
        "                UNION\n",
        "                (\n",
        "                    SELECT\n",
        "                        COUNT(VACANCIES.name), \n",
        "                        EMPLOYERS.name\n",
        "                    FROM VACANCIES\n",
        "                    LEFT JOIN EMPLOYERS ON EMPLOYERS.id = VACANCIES.employer_id\n",
        "                    GROUP BY EMPLOYERS.id\n",
        "                    ORDER BY 1 DESC\n",
        "                    LIMIT 1\n",
        "                )\n",
        "                ORDER BY 1 DESC\n",
        "'''"
      ]
    },
    {
      "cell_type": "code",
      "execution_count": 436,
      "id": "64tOMkAxqkQk",
      "metadata": {
        "id": "64tOMkAxqkQk"
      },
      "outputs": [
        {
          "name": "stderr",
          "output_type": "stream",
          "text": [
            "C:\\Users\\alex_\\AppData\\Roaming\\Python\\Python310\\site-packages\\pandas\\io\\sql.py:761: UserWarning: pandas only support SQLAlchemy connectable(engine/connection) ordatabase string URI or sqlite3 DBAPI2 connectionother DBAPI2 objects are not tested, please consider using SQLAlchemy\n",
            "  warnings.warn(\n"
          ]
        },
        {
          "name": "stdout",
          "output_type": "stream",
          "text": [
            "Какие работодатели находятся на первом и пятом месте по количеству вакансий? Ответ: Работодатель на первом месте: Яндекс Работодатель на пятом месте: Газпром нефть\n"
          ]
        }
      ],
      "source": [
        "# результат запроса\n",
        "answer = pd.read_sql_query(query_5_1, connection)\n",
        "answer_first = answer['name'][0]\n",
        "answer_fifth = answer['name'][1]\n",
        "print(f'Какие работодатели находятся на первом и пятом месте по количеству вакансий? Ответ: Работодатель на первом месте: {answer_first} Работодатель на пятом месте: {answer_fifth}')"
      ]
    },
    {
      "cell_type": "markdown",
      "id": "68377cfc-b378-43dc-ab7d-1195abf2c515",
      "metadata": {
        "id": "68377cfc-b378-43dc-ab7d-1195abf2c515"
      },
      "source": [
        "2. Напишите запрос, который для каждого региона выведет количество работодателей и вакансий в нём.\n",
        "Среди регионов, в которых нет вакансий, найдите тот, в котором наибольшее количество работодателей.\n"
      ]
    },
    {
      "cell_type": "code",
      "execution_count": 437,
      "id": "dd7df27a-e3e8-412e-a21a-5d389b71e891",
      "metadata": {
        "id": "dd7df27a-e3e8-412e-a21a-5d389b71e891"
      },
      "outputs": [],
      "source": [
        "# текст запроса\n",
        "query_5_2 = f'''             \n",
        "                SELECT\n",
        "                    COUNT(VACANCIES.id) AS vac_cnt,\n",
        "                    COUNT(EMPLOYERS.id) AS emp_cnt, \n",
        "                    AREAS.name AS area\n",
        "                FROM AREAS\n",
        "                LEFT JOIN VACANCIES ON AREAS.id = VACANCIES.area_id\n",
        "                LEFT JOIN EMPLOYERS ON AREAS.id = EMPLOYERS.area\n",
        "                WHERE VACANCIES.id is null\n",
        "                GROUP BY AREAS.id\n",
        "                ORDER BY 2 DESC\n",
        "                LIMIT 1\n",
        "'''"
      ]
    },
    {
      "cell_type": "code",
      "execution_count": 438,
      "id": "x1ikWbydrbf6",
      "metadata": {
        "id": "x1ikWbydrbf6"
      },
      "outputs": [
        {
          "name": "stdout",
          "output_type": "stream",
          "text": [
            "У какого региона нет вакансий и наибольшее количество работодателей? Ответ: Россия\n"
          ]
        },
      ],
      "source": [
        "# результат запроса\n",
        "answer = pd.read_sql_query(query_5_2, connection)\n",
        "answer = answer['area'][0]\n",
        "print(f'У какого региона нет вакансий и наибольшее количество работодателей? Ответ: {answer}')"
      ]
    },
    {
      "cell_type": "markdown",
      "id": "f2fe0acb-ab1a-4e15-9326-2560e22d73c1",
      "metadata": {
        "id": "f2fe0acb-ab1a-4e15-9326-2560e22d73c1"
      },
      "source": [
        "3. Для каждого работодателя посчитайте количество регионов, в которых он публикует свои вакансии. Отсортируйте результат по убыванию количества.\n"
      ]
    },
    {
      "cell_type": "code",
      "execution_count": 439,
      "id": "6271f8ad-bd2e-4196-ae4a-5b39c4c1010e",
      "metadata": {
        "id": "6271f8ad-bd2e-4196-ae4a-5b39c4c1010e"
      },
      "outputs": [],
      "source": [
        "# текст запроса\n",
        "query_5_3 = f'''               \n",
        "                SELECT\n",
        "                    COUNT(DISTINCT AREAS.id) AS area_cnt,\n",
        "                    EMPLOYERS.name AS employer\n",
        "                FROM VACANCIES\n",
        "                INNER JOIN EMPLOYERS ON EMPLOYERS.id = VACANCIES.employer_id\n",
        "                INNER JOIN AREAS ON AREAS.id = VACANCIES.area_id\n",
        "                GROUP BY EMPLOYERS.id\n",
        "                ORDER BY 1 DESC\n",
        "'''"
      ]
    },
    {
      "cell_type": "code",
      "execution_count": 440,
      "id": "1EIvX3HasH4F",
      "metadata": {
        "id": "1EIvX3HasH4F"
      },
        {
          "name": "stdout",
          "output_type": "stream",
          "text": [
            "Выберите работодателя с самым большим количеством регионов, в которых он публикует свои ваканси? Ответ: Яндекс - 181\n"
          ]
        }
      ],
      "source": [
        "# результат запроса\n",
        "answer = pd.read_sql_query(query_5_3, connection)\n",
        "answer_name = answer['employer'][0]\n",
        "answer_count = answer['area_cnt'][0]\n",
        "print(f'Выберите работодателя с самым большим количеством регионов, в которых он публикует свои ваканси? Ответ: {answer_name} - {answer_count}')"
      ]
    },
    {
      "cell_type": "markdown",
      "id": "eab2206d-d95b-468b-8e5f-34381abf0ce7",
      "metadata": {
        "id": "eab2206d-d95b-468b-8e5f-34381abf0ce7"
      },
      "source": [
        "4. Напишите запрос для подсчёта количества работодателей, у которых не указана сфера деятельности. "
      ]
    },
    {
      "cell_type": "code",
      "execution_count": 441,
      "id": "80defb23-bfb1-4a18-8be6-bf36aa7165d5",
      "metadata": {
        "id": "80defb23-bfb1-4a18-8be6-bf36aa7165d5"
      },
      "outputs": [],
      "source": [
        "# текст запроса\n",
        "query_5_4 = f'''\n",
        "                SELECT\n",
        "                    COUNT(*)\n",
        "                FROM EMPLOYERS\n",
        "                LEFT JOIN EMPLOYERS_INDUSTRIES ON EMPLOYERS.id = EMPLOYERS_INDUSTRIES.employer_id\n",
        "                WHERE EMPLOYERS_INDUSTRIES.industry_id is null\n",
        "'''"
      ]
    },
    {
      "cell_type": "code",
      "execution_count": 442,
      "id": "Dp_yCx6ysQSu",
      "metadata": {
        "id": "Dp_yCx6ysQSu"
      },
      "outputs": [
        {
          "name": "stdout",
          "output_type": "stream",
          "text": [
            "Какое количество работодателей, у которых не указана сфера деятельности? Ответ: 8419\n"
          ]
        },
      ],
      "source": [
        "# результат запроса\n",
        "answer = pd.read_sql_query(query_5_4, connection)\n",
        "answer = answer['count'][0]\n",
        "print(f'Какое количество работодателей, у которых не указана сфера деятельности? Ответ: {answer}')"
      ]
    },
    {
      "cell_type": "markdown",
      "id": "0112af31-f6b0-4e3b-82ab-71296e752e5e",
      "metadata": {
        "id": "0112af31-f6b0-4e3b-82ab-71296e752e5e"
      },
      "source": [
        "5. Напишите запрос, чтобы узнать название компании, находящейся на третьем месте в алфавитном списке (по названию) компаний, у которых указано четыре сферы деятельности. "
      ]
    },
    {
      "cell_type": "code",
      "execution_count": 443,
      "id": "973b0cfc-a972-470a-8b4a-68744ef220c4",
      "metadata": {
        "id": "973b0cfc-a972-470a-8b4a-68744ef220c4"
      },
      "outputs": [],
      "source": [
        "# текст запроса\n",
        "query_5_5 = f'''\n",
        "                SELECT\n",
        "                    EMPLOYERS.name as employer\n",
        "                FROM EMPLOYERS\n",
        "                LEFT JOIN EMPLOYERS_INDUSTRIES ON EMPLOYERS.id = EMPLOYERS_INDUSTRIES.employer_id\n",
        "                GROUP BY EMPLOYERS.id\n",
        "                HAVING COUNT(EMPLOYERS_INDUSTRIES.industry_id) = 4\n",
        "                ORDER BY 1\n",
        "                OFFSET 2 ROWS\n",
        "                LIMIT 1\n",
        "'''"
      ]
    },
    {
      "cell_type": "code",
      "execution_count": 444,
      "id": "xsPtpp8EsaED",
      "metadata": {
        "id": "xsPtpp8EsaED"
      },
      "outputs": [
        {
          "name": "stdout",
          "output_type": "stream",
          "text": [
            "Какое название компании, находящейся на третьем месте в алфавитном списке (по названию) компаний, у которых указано четыре сферы деятельности? Ответ: 2ГИС\n"
          ]
        },
      ],
      "source": [
        "# результат запроса\n",
        "answer = pd.read_sql_query(query_5_5, connection)\n",
        "answer = answer['employer'][0]\n",
        "print(f'Какое название компании, находящейся на третьем месте в алфавитном списке (по названию) компаний, у которых указано четыре сферы деятельности? Ответ: {answer}')"
      ]
    },
    {
      "cell_type": "markdown",
      "id": "3bfcfdaf-755d-4d2b-8ed8-326201dc07ab",
      "metadata": {
        "id": "3bfcfdaf-755d-4d2b-8ed8-326201dc07ab"
      },
      "source": [
        "6. С помощью запроса выясните, у какого количества работодателей в качестве сферы деятельности указана Разработка программного обеспечения.\n"
      ]
    },
    {
      "cell_type": "code",
      "execution_count": 445,
      "id": "ad3f270f-2991-47eb-929b-e8f88a55b0d1",
      "metadata": {
        "id": "ad3f270f-2991-47eb-929b-e8f88a55b0d1"
      },
      "outputs": [],
      "source": [
        "# текст запроса\n",
        "query_5_6 = f'''\n",
        "                SELECT\n",
        "                    COUNT(*)\n",
        "                FROM EMPLOYERS_INDUSTRIES\n",
        "                LEFT JOIN INDUSTRIES ON EMPLOYERS_INDUSTRIES.industry_id = INDUSTRIES.id\n",
        "                WHERE INDUSTRIES.name = 'Разработка программного обеспечения'\n",
        "'''"
      ]
    },
    {
      "cell_type": "code",
      "execution_count": 446,
      "id": "H72qxWM0shPR",
      "metadata": {
        "id": "H72qxWM0shPR"
      },
      "outputs": [
        {
          "name": "stdout",
          "output_type": "stream",
          "text": [
            "У какого количества работодателей в качестве сферы деятельности указана «Разработка программного обеспечения»? Ответ: 3553\n"
          ]
        },
        {
          "name": "stderr",
          "output_type": "stream",
          "text": [
            "C:\\Users\\alex_\\AppData\\Roaming\\Python\\Python310\\site-packages\\pandas\\io\\sql.py:761: UserWarning: pandas only support SQLAlchemy connectable(engine/connection) ordatabase string URI or sqlite3 DBAPI2 connectionother DBAPI2 objects are not tested, please consider using SQLAlchemy\n",
            "  warnings.warn(\n"
          ]
        }
      ],
      "source": [
        "# результат запроса\n",
        "answer = pd.read_sql_query(query_5_6, connection)\n",
        "answer = answer['count'][0]\n",
        "print(f'У какого количества работодателей в качестве сферы деятельности указана «Разработка программного обеспечения»? Ответ: {answer}')"
      ]
    },
    {
      "cell_type": "markdown",
      "id": "7b02bb86-0546-40fb-94a4-242f050a5c57",
      "metadata": {
        "id": "7b02bb86-0546-40fb-94a4-242f050a5c57"
      },
      "source": [
        "7. Для компании «Яндекс» выведите список регионов-миллионников, в которых представлены вакансии компании, вместе с количеством вакансий в этих регионах. Также добавьте строку Total с общим количеством вакансий компании. Результат отсортируйте по возрастанию количества.\n",
        "\n",
        "Список городов-милионников надо взять [отсюда](https://ru.wikipedia.org/wiki/%D0%93%D0%BE%D1%80%D0%BE%D0%B4%D0%B0-%D0%BC%D0%B8%D0%BB%D0%BB%D0%B8%D0%BE%D0%BD%D0%B5%D1%80%D1%8B_%D0%A0%D0%BE%D1%81%D1%81%D0%B8%D0%B8). \n",
        "\n",
        "Если возникнут трудности с этим задание посмотрите материалы модуля  PYTHON-17. Как получать данные из веб-источников и API. "
      ]
    },
    {
      "cell_type": "code",
      "execution_count": 447,
      "id": "ZdfrL6gIs1Pn",
      "metadata": {
        "id": "ZdfrL6gIs1Pn"
      },
      "outputs": [],
      "source": [
        "# код для получения списка городов-милионников\n",
        "url = 'https://ru.wikipedia.org/wiki/Города-миллионеры_России'\n",
        "response = requests.get(url)\n",
        "page = BeautifulSoup(response.text, 'html.parser')\n",
        "city_table = page.find('table',{'class':\"standard\"})\n",
        "city_df = pd.read_html(str(city_table))\n",
        "city_df = pd.DataFrame(city_df[0])\n",
        "city_df['Город'] = city_df['Город'].apply(lambda x: x.split('[')[0]) # Убираю [а]\n",
        "million_plus_cities = city_df['Город'].to_list()"
      ]
    },
    {
      "cell_type": "code",
      "execution_count": 448,
      "id": "5a0e32a4-e68a-4365-8a39-2fe24c542c36",
      "metadata": {
        "id": "5a0e32a4-e68a-4365-8a39-2fe24c542c36"
      },
      "outputs": [],
      "source": [
        "# текст запроса\n",
        "query_5_7 = f'''\n",
        "                (\n",
        "                    SELECT\n",
        "                        COUNT(VACANCIES.id) AS vac_cnt,\n",
        "                        AREAS.name AS areas\n",
        "                    FROM VACANCIES\n",
        "                    INNER JOIN EMPLOYERS ON EMPLOYERS.id = VACANCIES.employer_id\n",
        "                    INNER JOIN AREAS ON AREAS.id = VACANCIES.area_id\n",
        "                    WHERE EMPLOYERS.name = 'Яндекс' AND AREAS.name in {tuple(million_plus_cities)}\n",
        "                    GROUP BY AREAS.id\n",
        "                )\n",
        "                UNION\n",
        "                (\n",
        "                    SELECT\n",
        "                        COUNT(*),\n",
        "                        'Total'\n",
        "                    FROM VACANCIES\n",
        "                    INNER JOIN EMPLOYERS ON EMPLOYERS.id = VACANCIES.employer_id\n",
        "                    INNER JOIN AREAS ON AREAS.id = VACANCIES.area_id\n",
        "                    WHERE EMPLOYERS.name = 'Яндекс' AND AREAS.name in {tuple(million_plus_cities)}\n",
        "                )\n",
        "                ORDER BY 1\n",
        "'''"
      ]
    },
    {
      "cell_type": "code",
      "execution_count": 449,
      "id": "ttPhiO1rsvPq",
      "metadata": {
        "id": "ttPhiO1rsvPq"
      },
      "outputs": [
        {
          "name": "stdout",
          "output_type": "stream",
          "text": [
            "Количество вакансий компании \"Яндекс\" в городах миллионниках. Сколько всего строк в выборке? Ответ: 17. Всего вакансий? Ответ: 485\n"
          ]
        },
      ],
      "source": [
        "# результат запроса\n",
        "answer = pd.read_sql_query(query_5_7, connection)\n",
        "answer_count = answer['areas'].shape[0]\n",
        "answer_count_all = answer['vac_cnt'][answer_count-1]\n",
        "print(f'Количество вакансий компании \"Яндекс\" в городах миллионниках. Сколько всего строк в выборке? Ответ: {answer_count}. Всего вакансий? Ответ: {answer_count_all}')"
      ]
    },
    {
      "cell_type": "markdown",
      "id": "04966e40-3bc3-4dc8-9ba2-e80580ce3abc",
      "metadata": {
        "id": "04966e40-3bc3-4dc8-9ba2-e80580ce3abc"
      },
      "source": [
        "***"
      ]
    },
    {
      "cell_type": "markdown",
      "id": "aGGyER-yt4SR",
      "metadata": {
        "id": "aGGyER-yt4SR"
      },
      "source": [
        "# Выводы по анализу работодателей:\n",
        "* Яндекс - компания с наибольшим количеством вакансий, лидирующая с троекратным отрывом от ближайшего работодателя, охватывающая наибольшее количество регионов.\n",
        "* В данных с работодателями присутствуют некорректные данные в столбце с указанием региона.\n",
        "* Большое количество не полных данных, где не заполнены виды деятельности компаний."
      ]
    },
    {
      "cell_type": "markdown",
      "id": "b1ef156a-efcb-49ce-bb23-90763e7f35b2",
      "metadata": {
        "id": "b1ef156a-efcb-49ce-bb23-90763e7f35b2",
        "tags": []
      },
      "source": [
        "# Юнит 6. Предметный анализ"
      ]
    },
    {
      "cell_type": "markdown",
      "id": "b9cd50a0-992d-4988-8463-2b2b1c4629b4",
      "metadata": {
        "id": "b9cd50a0-992d-4988-8463-2b2b1c4629b4"
      },
      "source": [
        "1. Сколько вакансий имеет отношение к данным?\n",
        "\n",
        "Считаем, что вакансия имеет отношение к данным, если в её названии содержатся слова 'data' или 'данн'.\n",
        "\n",
        "*Подсказка: Обратите внимание, что названия вакансий могут быть написаны в любом регистре.* \n"
      ]
    },
    {
      "cell_type": "code",
      "execution_count": 450,
      "id": "54ab0e50-c0f1-47cc-a54b-bc5c8bc363f9",
      "metadata": {
        "id": "54ab0e50-c0f1-47cc-a54b-bc5c8bc363f9"
      },
      "outputs": [],
      "source": [
        "# текст запроса\n",
        "query_6_1 = f'''\n",
        "                SELECT\n",
        "                    COUNT(*)\n",
        "                FROM VACANCIES\n",
        "                WHERE LOWER(name) LIKE '%data%' OR LOWER(name) LIKE '%данн%'\n",
        "'''"
      ]
    },
    {
      "cell_type": "code",
      "execution_count": 451,
      "id": "9F1meAqsuUjd",
      "metadata": {
        "id": "9F1meAqsuUjd"
      },
      "outputs": [
        {
          "name": "stdout",
          "output_type": "stream",
          "text": [
            "Сколько вакансий имеют отношения к данным? Ответ: 1771\n"
          ]
        },
      ],
      "source": [
        "# результат запроса\n",
        "answer = pd.read_sql_query(query_6_1, connection)\n",
        "answer = answer['count'][0]\n",
        "print(f'Сколько вакансий имеют отношения к данным? Ответ: {answer}')"
      ]
    },
    {
      "cell_type": "markdown",
      "id": "4dea20cb-a36b-474a-a0b9-e08e8e3857a5",
      "metadata": {
        "id": "4dea20cb-a36b-474a-a0b9-e08e8e3857a5"
      },
      "source": [
        "2. Сколько есть подходящих вакансий для начинающего дата-сайентиста? \n",
        "Будем считать вакансиями для дата-сайентистов такие, в названии которых есть хотя бы одно из следующих сочетаний:\n",
        "* 'data scientist'\n",
        "* 'data science'\n",
        "* 'исследователь данных'\n",
        "* 'ML' (здесь не нужно брать вакансии по HTML)\n",
        "* 'machine learning'\n",
        "* 'машинн%обучен%'\n",
        "\n",
        "**В следующих заданиях мы продолжим работать с вакансиями по этому условию.**\n",
        "\n",
        "Считаем вакансиями для специалистов уровня Junior следующие:\n",
        "* в названии есть слово 'junior' *или*\n",
        "* требуемый опыт — Нет опыта *или*\n",
        "* тип трудоустройства — Стажировка.\n",
        " "
      ]
    },
    {
      "cell_type": "code",
      "execution_count": 452,
      "id": "9c61b3c0-bb66-46c9-ae1e-81d3f5752b4a",
      "metadata": {
        "id": "9c61b3c0-bb66-46c9-ae1e-81d3f5752b4a"
      },
      "outputs": [],
      "source": [
        "# текст запроса\n",
        "query_6_2 = f'''\n",
        "                SELECT\n",
        "                    COUNT(*)\n",
        "                FROM VACANCIES\n",
        "                WHERE (LOWER(name) LIKE '%junior%' OR experience = 'Нет опыта' OR employment = 'Стажировка') AND\n",
        "                    (LOWER(name) LIKE '%data scientist%' OR LOWER(name) LIKE '%data science%' OR LOWER(name) LIKE '%data science%' OR LOWER(name) LIKE '%исследователь данных%'\n",
        "                    OR name LIKE '%ML%' OR LOWER(name) LIKE '%machine learning%' OR LOWER(name) LIKE '%машинн%обучен%') AND name NOT LIKE '%HTML%'\n",
        "'''"
      ]
    },
    {
      "cell_type": "code",
      "execution_count": 453,
      "id": "ZNM-LLYuu1dj",
      "metadata": {
        "id": "ZNM-LLYuu1dj"
      },
      "outputs": [
        {
          "name": "stdout",
          "output_type": "stream",
          "text": [
            "Сколько вакансий для начинающего дата-сайентиста? Ответ: 51\n"
          ]
        },
      ],
      "source": [
        "# результат запроса\n",
        "answer = pd.read_sql_query(query_6_2, connection)\n",
        "#display(answer)\n",
        "answer = answer['count'][0]\n",
        "print(f'Сколько вакансий для начинающего дата-сайентиста? Ответ: {answer}')"
      ]
    },
    {
      "cell_type": "markdown",
      "id": "eedceb80-c5ca-480e-b27a-278dfb8b4438",
      "metadata": {
        "id": "eedceb80-c5ca-480e-b27a-278dfb8b4438"
      },
      "source": [
        "3. Сколько есть вакансий для DS, в которых в качестве ключевого навыка указан SQL или postgres?\n",
        "\n",
        "** Критерии для отнесения вакансии к DS указаны в предыдущем задании.*"
      ]
    },
    {
      "cell_type": "code",
      "execution_count": 454,
      "id": "69621713-0cc5-4f1b-a1d7-bb144fa6148c",
      "metadata": {
        "id": "69621713-0cc5-4f1b-a1d7-bb144fa6148c"
      },
      "outputs": [],
      "source": [
        "# текст запроса\n",
        "query_6_3 = f'''\n",
        "                SELECT\n",
        "                    COUNT(*)\n",
        "                FROM VACANCIES\n",
        "                WHERE --(LOWER(name) LIKE '%junior%' OR experience = 'Нет опыта' OR employment = 'Стажировка') AND \n",
        "                    (LOWER(name) LIKE '%data scientist%' OR LOWER(name) LIKE '%data science%' OR LOWER(name) LIKE '%исследователь данных%' OR \n",
        "                    name LIKE '%ML%' OR LOWER(name) LIKE '%machine learning%' OR LOWER(name) LIKE '%машинн%обучен%') AND (name NOT LIKE '%HTML%') AND \n",
        "                    (key_skills LIKE '%SQL%' OR key_skills LIKE '%postgres%')\n",
        "'''"
      ]
    },
    {
      "cell_type": "code",
      "execution_count": 455,
      "id": "alA8WEAAvGdf",
      "metadata": {
        "id": "alA8WEAAvGdf"
      },
        {
          "name": "stdout",
          "output_type": "stream",
          "text": [
            "Сколько вакансий для начинающего дата-сайентиста, в которых в качестве ключевого навыка указан SQL или postgres? Ответ: 201\n"
          ]
        }
      ],
      "source": [
        "# результат запроса\n",
        "answer = pd.read_sql_query(query_6_3, connection)\n",
        "#display(answer)\n",
        "answer = answer['count'][0]\n",
        "print(f'Сколько вакансий для начинающего дата-сайентиста, в которых в качестве ключевого навыка указан SQL или postgres? Ответ: {answer}')"
      ]
    },
    {
      "cell_type": "markdown",
      "id": "1be1e9c6-37cf-4a5f-bfeb-04cab799dc80",
      "metadata": {
        "id": "1be1e9c6-37cf-4a5f-bfeb-04cab799dc80"
      },
      "source": [
        "4. Проверьте, насколько популярен Python в требованиях работодателей к DS.Для этого вычислите количество вакансий, в которых в качестве ключевого навыка указан Python.\n",
        "\n",
        "** Это можно сделать помощью запроса, аналогичного предыдущему.*"
      ]
    },
    {
      "cell_type": "code",
      "execution_count": 456,
      "id": "0036a355-9ccf-4564-8b01-73d8194297e7",
      "metadata": {
        "id": "0036a355-9ccf-4564-8b01-73d8194297e7"
      },
      "outputs": [],
      "source": [
        "# текст запроса\n",
        "query_6_4 = f'''\n",
        "                SELECT\n",
        "                    COUNT(*)\n",
        "                FROM VACANCIES\n",
        "                WHERE (LOWER(name) LIKE '%data scientist%' OR LOWER(name) LIKE '%data science%' OR LOWER(name) LIKE '%исследователь данных%' OR \n",
        "                    name LIKE '%ML%' OR LOWER(name) LIKE '%machine learning%' OR LOWER(name) LIKE '%машинн%обучен%') AND (name NOT LIKE '%HTML%') AND \n",
        "                    (LOWER(key_skills) LIKE '%python%')\n",
        "'''"
      ]
    },
    {
      "cell_type": "code",
      "execution_count": 457,
      "id": "1i-5WyucvQ6v",
      "metadata": {
        "id": "1i-5WyucvQ6v"
      },
        {
          "name": "stdout",
          "output_type": "stream",
          "text": [
            "Сколько вакансий для начинающего дата-сайентиста, в которых в качестве ключевого навыка указан Python? Ответ: 351\n"
          ]
        }
      ],
      "source": [
        "# результат запроса\n",
        "answer = pd.read_sql_query(query_6_4, connection)\n",
        "#display(answer)\n",
        "answer = answer['count'][0]\n",
        "print(f'Сколько вакансий для начинающего дата-сайентиста, в которых в качестве ключевого навыка указан Python? Ответ: {answer}')"
      ]
    },
    {
      "cell_type": "markdown",
      "id": "ec3c8db7-fa21-4a41-a994-1af63742a642",
      "metadata": {
        "id": "ec3c8db7-fa21-4a41-a994-1af63742a642"
      },
      "source": [
        "5. Сколько ключевых навыков в среднем указывают в вакансиях для DS?\n",
        "Ответ округлите до двух знаков после точки-разделителя."
      ]
    },
    {
      "cell_type": "code",
      "execution_count": 458,
      "id": "949132bc-d5b6-4611-8218-0b9a504d74f4",
      "metadata": {
        "id": "949132bc-d5b6-4611-8218-0b9a504d74f4"
      },
      "outputs": [],
      "source": [
        "# текст запроса\n",
        "query_6_5 = f'''\n",
        "                SELECT\n",
        "                    ROUND(AVG((LENGTH(key_skills) - LENGTH(REPLACE(key_skills, N'\\t', N'')) + 1)), 2) AS avg\n",
        "                FROM VACANCIES\n",
        "                WHERE (LOWER(name) LIKE '%data scientist%' OR LOWER(name) LIKE '%data science%' OR LOWER(name) LIKE '%исследователь данных%' OR \n",
        "                    name LIKE '%ML%' OR LOWER(name) LIKE '%machine learning%' OR LOWER(name) LIKE '%машинн%обучен%') AND (name NOT LIKE '%HTML%') \n",
        "'''"
      ]
    },
    {
      "cell_type": "code",
      "execution_count": 459,
      "id": "a3V24Tvmviqk",
      "metadata": {
        "id": "a3V24Tvmviqk"
      },
        {
          "name": "stdout",
          "output_type": "stream",
          "text": [
            "Сколько ключевых навыков в среднем указывают в вакансиях для DS? Ответ: 6.41\n"
          ]
        }
      ],
      "source": [
        "# результат запроса\n",
        "answer = pd.read_sql_query(query_6_5, connection)\n",
        "answer = answer['avg'][0]\n",
        "print(f'Сколько ключевых навыков в среднем указывают в вакансиях для DS? Ответ: {answer}')"
      ]
    },
    {
      "cell_type": "markdown",
      "id": "1041c17a-ca8f-4543-a0ca-32778914fb00",
      "metadata": {
        "id": "1041c17a-ca8f-4543-a0ca-32778914fb00"
      },
      "source": [
        "6. Напишите запрос, позволяющий вычислить, какую зарплату для DS в **среднем** указывают для каждого типа требуемого опыта (уникальное значение из поля *experience*). \n",
        "\n",
        "При решении задачи примите во внимание следующее:\n",
        "1. Рассматриваем только вакансии, у которых заполнено хотя бы одно из двух полей с зарплатой.\n",
        "2. Если заполнены оба поля с зарплатой, то считаем зарплату по каждой вакансии как сумму двух полей, делённую на 2. Если заполнено только одно из полей, то его и считаем зарплатой по вакансии.\n",
        "3. Если в расчётах участвует null, в результате он тоже даст null (посмотрите, что возвращает запрос select 1 + null). Чтобы избежать этой ситуацию, мы воспользуемся функцией [coalesce](https://postgrespro.ru/docs/postgresql/9.5/functions-conditional#functions-coalesce-nvl-ifnull), которая заменит null на значение, которое мы передадим. Например, посмотрите, что возвращает запрос `select 1 + coalesce(null, 0)`\n",
        "\n",
        "Выясните, на какую зарплату в среднем может рассчитывать дата-сайентист с опытом работы от 3 до 6 лет. Результат округлите до целого числа. "
      ]
    },
    {
      "cell_type": "code",
      "execution_count": 460,
      "id": "6a743d39-5204-48d3-8271-b9f88e68d40e",
      "metadata": {
        "id": "6a743d39-5204-48d3-8271-b9f88e68d40e"
      },
      "outputs": [],
      "source": [
        "# текст запроса\n",
        "query_6_6 = f'''\n",
        "                SELECT\n",
        "                    experience,\n",
        "                    ROUND(AVG(CASE WHEN (salary_from > 0 AND salary_to > 0) THEN (salary_from + salary_to)/2 ELSE coalesce(salary_from, salary_to) END), 0) AS avg\n",
        "                FROM VACANCIES\n",
        "                WHERE ((LOWER(name) LIKE '%data scientist%' OR LOWER(name) LIKE '%data science%' OR LOWER(name) LIKE '%исследователь данных%' OR \n",
        "                    name LIKE '%ML%' OR LOWER(name) LIKE '%machine learning%' OR LOWER(name) LIKE '%машинн%обучен%') AND (name NOT LIKE '%HTML%'))\n",
        "                    AND (salary_from > 0 or salary_to > 0)\n",
        "                GROUP BY experience \n",
        "'''"
      ]
    },
    {
      "cell_type": "code",
      "execution_count": 461,
      "id": "aRIJ0mZEwU1_",
      "metadata": {
        "id": "aRIJ0mZEwU1_"
      },
      "outputs": [
        {
          "name": "stdout",
          "output_type": "stream",
          "text": [
            "Выясните, на какую зарплату в среднем может рассчитывать дата-сайентист с опытом работы от 3 до 6 лет? Ответ: 243115.0\n"
          ]
        },
      ],
      "source": [
        "# результат запроса\n",
        "answer = pd.read_sql_query(query_6_6, connection)\n",
        "answer = answer[answer['experience'] == 'От 3 до 6 лет']['avg'].values[0]\n",
        "print(f'Выясните, на какую зарплату в среднем может рассчитывать дата-сайентист с опытом работы от 3 до 6 лет? Ответ: {answer}')"
      ]
    },
    {
      "cell_type": "markdown",
      "id": "6a7892b4-4113-4746-adce-18aa2844f18e",
      "metadata": {
        "id": "6a7892b4-4113-4746-adce-18aa2844f18e"
      },
      "source": [
        "***"
      ]
    },
    {
      "cell_type": "markdown",
      "id": "UjLWUptVwY1o",
      "metadata": {
        "id": "UjLWUptVwY1o"
      },
      "source": [
        "# Выводы по предметному анализу:\n",
        "* Вакансий относящихся к сфере работы с данными довольно большое количество если сравнивать со средним распределением между всеми существующими сферами деятельности.\n",
        "* В направлении Data Science не так много вакансий для новичков.\n",
        "* Одними из основных инструментов для дата сайентистов являются SQL и Python.\n",
        "* Средняя заработная плана дата сайентистов значительно выше средней заработной платы между всем вакансиям."
      ]
    },
    {
      "cell_type": "markdown",
      "id": "c0ED6fh7wiBT",
      "metadata": {
        "id": "c0ED6fh7wiBT"
      },
      "source": [
        "# Общий вывод по проекту"
      ]
    },
    {
      "cell_type": "markdown",
      "id": "h9B3BL-wwj18",
      "metadata": {
        "id": "h9B3BL-wwj18"
      },
      "source": [
        "# Подведем итог исследования, обобщите выводы:\n",
        "* Данные нуждаются в очистке и нормализации.\n",
        "* На рынке труда довольно много высокооплачиваемых вакансий так или иначе затрагивающих работу с данными."
      ]
    },
    {
      "cell_type": "code",
      "execution_count": 481,
      "id": "cbfe5947",
      "metadata": {},
      "outputs": [
        {
          "name": "stdout",
          "output_type": "stream",
          "text": [
            "Сколько представленно вакансий с ключевыми навыками python и SQL/postgres не связанных с разработкой сайтов? Ответ: 1991\n"
          ]
        },
      ],
      "source": [
        "# здесь можно (это будет плюсом) провести дополнительные исследования данных, сделать прогнозы, продумать варианты продолжения исследования\n",
        "# текст запроса\n",
        "query_add_1 = f'''\n",
        "                SELECT\n",
        "                    COUNT(*)\n",
        "                FROM VACANCIES\n",
        "                WHERE (key_skills LIKE '%SQL%' OR key_skills LIKE '%postgres%') AND (LOWER(key_skills) LIKE '%python%') AND (name NOT LIKE '%HTML%') AND (key_skills NOT LIKE '%HTML%') \n",
        "                    AND (key_skills NOT LIKE '%CSS%') AND (LOWER(name) NOT LIKE '%вэб%') AND (LOWER(name) NOT LIKE '%веб%') AND (LOWER(name) NOT LIKE '%web%') \n",
        "                    AND (LOWER(name) NOT LIKE '%back%end%') AND (LOWER(name) NOT LIKE '%front%end%')\n",
        "'''\n",
        "answer = pd.read_sql_query(query_add_1, connection)\n",
        "answer = answer['count'][0]\n",
        "print(f'Сколько представленно вакансий с ключевыми навыками python и SQL/postgres не связанных с разработкой сайтов? Ответ: {answer}')"
      ]
    },
    {
      "cell_type": "code",
      "execution_count": 497,
      "id": "447fb3c8",
      "metadata": {},
      "outputs": [
        {
          "name": "stdout",
          "output_type": "stream",
          "text": [
            "Топ 5 компаний с наивысшей средней заработной платой?\n"
          ]
        },
        {
          "data": {
            "text/html": [
              "<div>\n",
              "<style scoped>\n",
              "    .dataframe tbody tr th:only-of-type {\n",
              "        vertical-align: middle;\n",
              "    }\n",
              "\n",
              "    .dataframe tbody tr th {\n",
              "        vertical-align: top;\n",
              "    }\n",
              "\n",
              "    .dataframe thead th {\n",
              "        text-align: right;\n",
              "    }\n",
              "</style>\n",
              "<table border=\"1\" class=\"dataframe\">\n",
              "  <thead>\n",
              "    <tr style=\"text-align: right;\">\n",
              "      <th></th>\n",
              "      <th>name</th>\n",
              "      <th>count</th>\n",
              "      <th>avg</th>\n",
              "      <th>max</th>\n",
              "    </tr>\n",
              "  </thead>\n",
              "  <tbody>\n",
              "    <tr>\n",
              "      <th>0</th>\n",
              "      <td>Петухова Алия</td>\n",
              "      <td>5</td>\n",
              "      <td>552700.0</td>\n",
              "      <td>574000</td>\n",
              "    </tr>\n",
              "    <tr>\n",
              "      <th>1</th>\n",
              "      <td>Агентство недвижимости ЛЕТО</td>\n",
              "      <td>2</td>\n",
              "      <td>550000.0</td>\n",
              "      <td>500000</td>\n",
              "    </tr>\n",
              "    <tr>\n",
              "      <th>2</th>\n",
              "      <td>Август, Фирма</td>\n",
              "      <td>10</td>\n",
              "      <td>500000.0</td>\n",
              "      <td>500000</td>\n",
              "    </tr>\n",
              "    <tr>\n",
              "      <th>3</th>\n",
              "      <td>StaffRecruitment</td>\n",
              "      <td>3</td>\n",
              "      <td>483333.0</td>\n",
              "      <td>650000</td>\n",
              "    </tr>\n",
              "    <tr>\n",
              "      <th>4</th>\n",
              "      <td>Шеф Маркет</td>\n",
              "      <td>2</td>\n",
              "      <td>457500.0</td>\n",
              "      <td>500000</td>\n",
              "    </tr>\n",
              "  </tbody>\n",
              "</table>\n",
              "</div>"
            ],
            "text/plain": [
              "                          name  count       avg     max\n",
              "0                Петухова Алия      5  552700.0  574000\n",
              "1  Агентство недвижимости ЛЕТО      2  550000.0  500000\n",
              "2                Август, Фирма     10  500000.0  500000\n",
              "3             StaffRecruitment      3  483333.0  650000\n",
              "4                   Шеф Маркет      2  457500.0  500000"
            ]
          },
          "metadata": {},
          "output_type": "display_data"
        }
      ],
      "source": [
        "query_add_2 = f'''\n",
        "                SELECT\n",
        "                    EMPLOYERS.name,\n",
        "                    COUNT(EMPLOYERS.id),\n",
        "                    ROUND(AVG(CASE WHEN (salary_from > 0 AND salary_to > 0) THEN (salary_from + salary_to)/2 ELSE coalesce(salary_to, salary_from) END), 0) AS avg,\n",
        "                    MAX(coalesce(salary_from, salary_to))\n",
        "                FROM VACANCIES\n",
        "                LEFT JOIN EMPLOYERS ON EMPLOYERS.id = VACANCIES.employer_id\n",
        "                WHERE salary_from > 0 OR salary_to > 0\n",
        "                GROUP BY EMPLOYERS.id\n",
        "                HAVING COUNT(EMPLOYERS.id) > 1 \n",
        "                    AND ROUND(AVG(CASE WHEN (salary_from > 0 AND salary_to > 0) THEN (salary_from + salary_to)/2 ELSE coalesce(salary_to, salary_from) END), 0) > 10000\n",
        "                ORDER BY 3 DESC\n",
        "                LIMIT 5\n",
        "'''\n",
        "print(f'Топ 5 компаний с наивысшей средней заработной платой?')\n",
        "answer = pd.read_sql_query(query_add_2, connection)\n",
        "display(answer)"
      ]
    },
    {
      "cell_type": "code",
      "execution_count": 492,
      "id": "c36e5651",
      "metadata": {},
        {
          "data": {
            "text/html": [
              "<div>\n",
              "<style scoped>\n",
              "    .dataframe tbody tr th:only-of-type {\n",
              "        vertical-align: middle;\n",
              "    }\n",
              "\n",
              "    .dataframe tbody tr th {\n",
              "        vertical-align: top;\n",
              "    }\n",
              "\n",
              "    .dataframe thead th {\n",
              "        text-align: right;\n",
              "    }\n",
              "</style>\n",
              "<table border=\"1\" class=\"dataframe\">\n",
              "  <thead>\n",
              "    <tr style=\"text-align: right;\">\n",
              "      <th></th>\n",
              "      <th>name</th>\n",
              "      <th>count</th>\n",
              "      <th>avg</th>\n",
              "      <th>max</th>\n",
              "    </tr>\n",
              "  </thead>\n",
              "  <tbody>\n",
              "    <tr>\n",
              "      <th>0</th>\n",
              "      <td>IGB GROUP</td>\n",
              "      <td>2</td>\n",
              "      <td>12815.0</td>\n",
              "      <td>18307</td>\n",
              "    </tr>\n",
              "    <tr>\n",
              "      <th>1</th>\n",
              "      <td>КУП Брестоблкиновидеопрокат</td>\n",
              "      <td>1</td>\n",
              "      <td>12389.0</td>\n",
              "      <td>12389</td>\n",
              "    </tr>\n",
              "    <tr>\n",
              "      <th>2</th>\n",
              "      <td>Учебный центр Баланс 1</td>\n",
              "      <td>1</td>\n",
              "      <td>12205.0</td>\n",
              "      <td>12205</td>\n",
              "    </tr>\n",
              "    <tr>\n",
              "      <th>3</th>\n",
              "      <td>PRO ASSISTANCE</td>\n",
              "      <td>1</td>\n",
              "      <td>12205.0</td>\n",
              "      <td>12205</td>\n",
              "    </tr>\n",
              "    <tr>\n",
              "      <th>4</th>\n",
              "      <td>ALSECO, АО</td>\n",
              "      <td>1</td>\n",
              "      <td>12205.0</td>\n",
              "      <td>12205</td>\n",
              "    </tr>\n",
              "    <tr>\n",
              "      <th>...</th>\n",
              "      <td>...</td>\n",
              "      <td>...</td>\n",
              "      <td>...</td>\n",
              "      <td>...</td>\n",
              "    </tr>\n",
              "    <tr>\n",
              "      <th>75</th>\n",
              "      <td>Авсянников Василий</td>\n",
              "      <td>1</td>\n",
              "      <td>900.0</td>\n",
              "      <td>900</td>\n",
              "    </tr>\n",
              "    <tr>\n",
              "      <th>76</th>\n",
              "      <td>Эксперт</td>\n",
              "      <td>1</td>\n",
              "      <td>800.0</td>\n",
              "      <td>750</td>\n",
              "    </tr>\n",
              "    <tr>\n",
              "      <th>77</th>\n",
              "      <td>Вьюэво</td>\n",
              "      <td>1</td>\n",
              "      <td>300.0</td>\n",
              "      <td>250</td>\n",
              "    </tr>\n",
              "    <tr>\n",
              "      <th>78</th>\n",
              "      <td>DauInvest</td>\n",
              "      <td>1</td>\n",
              "      <td>65.0</td>\n",
              "      <td>65</td>\n",
              "    </tr>\n",
              "    <tr>\n",
              "      <th>79</th>\n",
              "      <td>Альтаир</td>\n",
              "      <td>1</td>\n",
              "      <td>60.0</td>\n",
              "      <td>60</td>\n",
              "    </tr>\n",
              "  </tbody>\n",
              "</table>\n",
              "<p>80 rows × 4 columns</p>\n",
              "</div>"
            ],
            "text/plain": [
              "                           name  count      avg    max\n",
              "0                     IGB GROUP      2  12815.0  18307\n",
              "1   КУП Брестоблкиновидеопрокат      1  12389.0  12389\n",
              "2        Учебный центр Баланс 1      1  12205.0  12205\n",
              "3                PRO ASSISTANCE      1  12205.0  12205\n",
              "4                    ALSECO, АО      1  12205.0  12205\n",
              "..                          ...    ...      ...    ...\n",
              "75           Авсянников Василий      1    900.0    900\n",
              "76                      Эксперт      1    800.0    750\n",
              "77                       Вьюэво      1    300.0    250\n",
              "78                    DauInvest      1     65.0     65\n",
              "79                      Альтаир      1     60.0     60\n",
              "\n",
              "[80 rows x 4 columns]"
            ]
          },
          "metadata": {},
          "output_type": "display_data"
        },
        {
          "name": "stdout",
          "output_type": "stream",
          "text": [
            "Сколько представленно вакансий компаний с средней заработной платой меньше прожиточного минимума? Ответ: 80\n"
          ]
        }
      ],
      "source": [
        "query_add_3 = f'''\n",
        "                SELECT\n",
        "                    EMPLOYERS.name,\n",
        "                    COUNT(EMPLOYERS.id),\n",
        "                    ROUND(AVG(CASE WHEN (salary_from > 0 AND salary_to > 0) THEN (salary_from + salary_to)/2 ELSE coalesce(salary_to, salary_from) END), 0) AS avg,\n",
        "                    MAX(coalesce(salary_from, salary_to))\n",
        "                FROM VACANCIES\n",
        "                LEFT JOIN EMPLOYERS ON EMPLOYERS.id = VACANCIES.employer_id\n",
        "                WHERE salary_from > 0 OR salary_to > 0\n",
        "                GROUP BY EMPLOYERS.id\n",
        "                HAVING ROUND(AVG(CASE WHEN (salary_from > 0 AND salary_to > 0) THEN (salary_from + salary_to)/2 ELSE coalesce(salary_to, salary_from) END), 0) < 13000\n",
        "                ORDER BY 4 DESC\n",
        "'''\n",
        "answer = pd.read_sql_query(query_add_3, connection)\n",
        "display(answer)\n",
        "answer = answer.shape[0]\n",
        "print(f'Сколько представленно вакансий компаний с средней заработной платой меньше прожиточного минимума? Ответ: {answer}')\n",
        "#connection.close()"
      ]
    },
    {
      "cell_type": "markdown",
      "id": "20ddcb9d",
      "metadata": {},
      "source": [
        "# Подведем итог дополнительных исследований:\n",
        "* Обнаружены выбросы в столбце заработной платы.\n",
        "* Найдены компании с самыми высокооплачиваемыми вакансиями."
      ]
    }
  ],
  "metadata": {
    "colab": {
      "collapsed_sections": [
        "8d62a9f3-f64e-4fe7-bdac-c4dffa16155e"
      ],
      "provenance": []
    },
    "kernelspec": {
      "display_name": "Python 3.10.5 64-bit",
      "language": "python",
      "name": "python3"
    },
    "language_info": {
      "codemirror_mode": {
        "name": "ipython",
        "version": 3
      },
      "file_extension": ".py",
      "mimetype": "text/x-python",
      "name": "python",
      "nbconvert_exporter": "python",
      "pygments_lexer": "ipython3",
      "version": "3.10.5"
    },
    "vscode": {
      "interpreter": {
        "hash": "26de051ba29f2982a8de78e945f0abaf191376122a1563185a90213a26c5da77"
      }
    }
  },
  "nbformat": 4,
  "nbformat_minor": 5
}
